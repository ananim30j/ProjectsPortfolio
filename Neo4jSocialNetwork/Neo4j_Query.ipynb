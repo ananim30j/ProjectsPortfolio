{
 "cells": [
  {
   "cell_type": "markdown",
   "metadata": {},
   "source": [
    "# DSI Social Network\n",
    "\n",
    "Author: Ananya Nimbalkar\n",
    "\n",
    "This notebook contains all code for the necessary node & edge creation, as well as the queries for mini project 3."
   ]
  },
  {
   "cell_type": "markdown",
   "metadata": {},
   "source": [
    "## Install & Load Libraries"
   ]
  },
  {
   "cell_type": "code",
   "execution_count": 1,
   "metadata": {},
   "outputs": [
    {
     "name": "stdout",
     "output_type": "stream",
     "text": [
      "Requirement already satisfied: neo4j in c:\\users\\anani\\appdata\\local\\packages\\pythonsoftwarefoundation.python.3.10_qbz5n2kfra8p0\\localcache\\local-packages\\python310\\site-packages (5.25.0)\n",
      "Requirement already satisfied: pytz in c:\\users\\anani\\appdata\\local\\packages\\pythonsoftwarefoundation.python.3.10_qbz5n2kfra8p0\\localcache\\local-packages\\python310\\site-packages (from neo4j) (2023.3.post1)\n"
     ]
    },
    {
     "name": "stderr",
     "output_type": "stream",
     "text": [
      "\n",
      "[notice] A new release of pip is available: 24.0 -> 24.3.1\n",
      "[notice] To update, run: C:\\Users\\anani\\AppData\\Local\\Microsoft\\WindowsApps\\PythonSoftwareFoundation.Python.3.10_qbz5n2kfra8p0\\python.exe -m pip install --upgrade pip\n"
     ]
    }
   ],
   "source": [
    "!pip install neo4j\n",
    "import neo4j\n",
    "import pandas as pd"
   ]
  },
  {
   "cell_type": "markdown",
   "metadata": {},
   "source": [
    "## Wipe Database\n",
    "Wipe out database to ensure creation started from scratch."
   ]
  },
  {
   "cell_type": "code",
   "execution_count": 2,
   "metadata": {},
   "outputs": [],
   "source": [
    "def connect_db():\n",
    "    #auth from .yml file, username password\n",
    "    driver = neo4j.GraphDatabase.driver(uri=\"neo4j://localhost:7687\", auth=(\"neo4j\",\"password\"))\n",
    "    session = driver.session(database=\"neo4j\") # Like use mydb;\n",
    "    return session\n",
    "    \n",
    "def wipe_out_db(session):\n",
    "    # wipe out database by deleting all nodes and relationships\n",
    "    \n",
    "    # similar to SELECT * FROM graph_db in SQL\n",
    "    query = \"match (node)-[relationship]->() delete node, relationship\"\n",
    "    session.run(query)\n",
    "    \n",
    "    query = \"match (node) delete node\"\n",
    "    session.run(query)\n",
    "\n",
    "session = connect_db()\n",
    "wipe_out_db(session) "
   ]
  },
  {
   "cell_type": "markdown",
   "metadata": {},
   "source": [
    "## Data Insertion\n",
    "Insert variety of data for the DSI social network (Nodes: Users, Posts, Groups, Events, Badges; Edges: FRIEND, CREATED, MEMBER_OF, ATTENDING, AWARDED)\n",
    "\n",
    "- All users have a major of Data Science as this is a DSI social network\n",
    "- Users' emails follow firstname.lastname@vanderbilt.edu format\n",
    "- Interests align with data science related topics or industry preferences (i.e healthcare)"
   ]
  },
  {
   "cell_type": "code",
   "execution_count": null,
   "metadata": {},
   "outputs": [
    {
     "data": {
      "text/plain": [
       "<neo4j._sync.work.result.Result at 0x1f6e586b820>"
      ]
     },
     "execution_count": 3,
     "metadata": {},
     "output_type": "execute_result"
    }
   ],
   "source": [
    "# Define the Cypher query for data insertion\n",
    "dsi_social_network_query = '''\n",
    "// Users\n",
    "CREATE (Alice:User {user_id: 1, name: 'Alice Smith', email: 'alice.smith@vanderbilt.edu', join_date: '2018-06-15', major: 'Data Science', interests: ['Machine Learning', 'Healthcare']}),\n",
    "       (Bob:User {user_id: 2, name: 'Bob Jones', email: 'bob.jones@vanderbilt.edu', join_date: '2019-04-20', major: 'Data Science', interests: ['AI Ethics', 'Data Engineering','Natural Language Processing']}),\n",
    "       (Charlie:User {user_id: 3, name: 'Charlie Brown', email: 'charlie.brown@vanderbilt.edu', join_date: '2020-09-05', major: 'Data Science', interests: ['Natural Language Processing', 'Finance']}),\n",
    "       (Diana:User {user_id: 4, name: 'Diana Prince', email: 'diana.prince@vanderbilt.edu', join_date: '2021-11-11', major: 'Data Science', interests: ['Computer Vision', 'Robotics']}),\n",
    "       (Evan:User {user_id: 5, name: 'Evan Lee', email: 'evan.lee@vanderbilt.edu', join_date: '2022-03-15', major: 'Data Science', interests: ['Data Visualization', 'Statistics']}),\n",
    "       (Fay:User {user_id: 6, name: 'Fay Wong', email: 'fay.wong@vanderbilt.edu', join_date: '2018-07-21', major: 'Data Science', interests: ['Deep Learning', 'Natural Language Processing']}),\n",
    "       (Grace:User {user_id: 7, name: 'Grace Kim', email: 'grace.kim@vanderbilt.edu', join_date: '2019-12-10', major: 'Data Science', interests: ['Data Privacy', 'AI Ethics']}),\n",
    "       (Henry:User {user_id: 8, name: 'Henry Ford', email: 'henry.ford@vanderbilt.edu', join_date: '2023-01-22', major: 'Data Science', interests: ['Bioinformatics', 'Genomics']}),\n",
    "       (Ivy:User {user_id: 9, name: 'Ivy Nguyen', email: 'ivy.nguyen@vanderbilt.edu', join_date: '2018-10-25', major: 'Data Science', interests: ['Quantum Computing', 'Optimization']}),\n",
    "       (Jake:User {user_id: 10, name: 'Jake Miller', email: 'jake.miller@vanderbilt.edu', join_date: '2020-08-14', major: 'Data Science', interests: ['Data Engineering', 'Big Data']}),\n",
    "       (Laura:User {user_id: 11, name: 'Laura Chen', email: 'laura.chen@vanderbilt.edu', join_date: '2021-04-17', major: 'Data Science', interests: ['Cybersecurity', 'Data Privacy']}),\n",
    "       (Matt:User {user_id: 12, name: 'Matt Green', email: 'matt.green@vanderbilt.edu', join_date: '2020-06-30', major: 'Data Science', interests: ['Computer Vision', 'Healthcare', 'Big Data']})\n",
    "\n",
    "// Posts\n",
    "CREATE (Post1:Post {post_id: 1, content: 'Excited to start my journey in data science!', created_date: '2021-07-01', topic: 'Career Advice', likes_count: 10, comments_count: 2, visibility: 'public'}),\n",
    "       (Post2:Post {post_id: 2, content: 'Anyone interested in a project on NLP?', created_date: '2022-01-15', topic: 'Project Sharing', likes_count: 15, comments_count: 5, visibility: 'friends-only'}),\n",
    "       (Post3:Post {post_id: 3, content: 'Machine Learning in Finance is fascinating!', created_date: '2021-11-20', topic: 'Finance', likes_count: 20, comments_count: 3, visibility: 'public'}),\n",
    "       (Post4:Post {post_id: 4, content: 'Exploring AI Ethics and its impact.', created_date: '2020-08-25', topic: 'AI Ethics', likes_count: 8, comments_count: 1, visibility: 'public'}),\n",
    "       (Post5:Post {post_id: 5, content: 'Tips on Data Engineering best practices?', created_date: '2023-02-01', topic: 'Data Engineering', likes_count: 5, comments_count: 0, visibility: 'public'}),\n",
    "       (Post6:Post {post_id: 6, content: 'Looking for a team to join for a statistics project.', created_date: '2022-09-05', topic: 'Project Sharing', likes_count: 12, comments_count: 3, visibility: 'friends-only'}),\n",
    "       (Post7:Post {post_id: 7, content: 'The future of Quantum Computing in AI.', created_date: '2019-04-10', topic: 'Quantum Computing', likes_count: 22, comments_count: 4, visibility: 'public'}),\n",
    "       (Post8:Post {post_id: 8, content: 'Computer Vision techniques I recently learned.', created_date: '2021-05-18', topic: 'Computer Vision', likes_count: 18, comments_count: 2, visibility: 'public'}),\n",
    "       (Post9:Post {post_id: 9, content: 'Applications of Bioinformatics in disease research.', created_date: '2023-03-10', topic: 'Bioinformatics', likes_count: 30, comments_count: 6, visibility: 'public'}),\n",
    "       (Post10:Post {post_id: 10, content: 'Big Data challenges and how to solve them.', created_date: '2019-12-05', topic: 'Big Data', likes_count: 17, comments_count: 1, visibility: 'public'}),\n",
    "       (Post11:Post {post_id: 11, content: 'Navigating the world of Cybersecurity', created_date: '2020-03-22', topic: 'Cybersecurity', likes_count: 25, comments_count: 5, visibility: 'public'}),\n",
    "       (Post12:Post {post_id: 12, content: 'Data Privacy issues in the modern age', created_date: '2021-09-01', topic: 'Data Privacy', likes_count: 10, comments_count: 2, visibility: 'public'})\n",
    "\n",
    "// Groups\n",
    "CREATE (Group1:Group {group_id: 1, name: 'Healthcare AI', description: 'For those interested in AI applications in healthcare.', created_date: '2021-06-10', topic: 'Healthcare'}),\n",
    "       (Group2:Group {group_id: 2, name: 'NLP Enthusiasts', description: 'A group for people interested in NLP projects.', created_date: '2022-06-15', topic: 'Natural Language Processing'}),\n",
    "       (Group3:Group {group_id: 3, name: 'AI Ethics & Society', description: 'Discuss the ethical implications of AI.', created_date: '2019-03-25', topic: 'AI Ethics'}),\n",
    "       (Group4:Group {group_id: 4, name: 'Quantum Computing Group', description: 'For those interested in quantum applications in AI.', created_date: '2018-09-30', topic: 'Quantum Computing'}),\n",
    "       (Group5:Group {group_id: 5, name: 'Computer Vision Innovators', description: 'Exploring computer vision and its applications.', created_date: '2020-10-20', topic: 'Computer Vision'})\n",
    "\n",
    "// Events\n",
    "CREATE (Event1:Event {event_id: 1, name: 'DSI Workshop on Machine Learning', location: 'Online', event_date: '2023-08-01', topic: 'Machine Learning'}),\n",
    "       (Event2:Event {event_id: 2, name: 'NLP Networking Event', location: 'Campus Hall A', event_date: '2023-05-15', topic: 'Natural Language Processing'}),\n",
    "       (Event3:Event {event_id: 3, name: 'Ethics in AI Panel', location: 'Main Auditorium', event_date: '2022-11-12', topic: 'AI Ethics'}),\n",
    "       (Event4:Event {event_id: 4, name: 'Quantum Computing Conference', location: 'Research Lab', event_date: '2023-02-20', topic: 'Quantum Computing'}),\n",
    "       (Event5:Event {event_id: 5, name: 'Data Engineering Meetup', location: 'Tech Building Room 202', event_date: '2023-04-05', topic: 'Data Engineering'})\n",
    "\n",
    "// Badges\n",
    "CREATE (Badge1:Badge {badge_id: 1, name: 'Top Contributor', description: 'Awarded for high activity on the platform', awarded_date: '2023-01-05'}),\n",
    "       (Badge2:Badge {badge_id: 2, name: 'Data Science Mentor', description: 'Awarded for mentoring others', awarded_date: '2023-02-15'}),\n",
    "       (Badge3:Badge {badge_id: 3, name: 'AI Ethics Expert', description: 'Recognized for expertise in AI ethics', awarded_date: '2023-03-20'})\n",
    "\n",
    "// Relationships\n",
    "CREATE (Alice)-[:FRIEND {since: '2019-05-10'}]->(Bob),\n",
    "       (Bob)-[:FRIEND {since: '2020-10-15'}]->(Charlie),\n",
    "       (Charlie)-[:FRIEND {since: '2021-11-11'}]->(Diana),\n",
    "       (Matt)-[:FRIEND {since: '2023-08-23'}]->(Charlie),\n",
    "       (Ivy)-[:FRIEND {since: '2023-03-14'}]->(Henry),\n",
    "       (Henry)-[:FRIEND {since: '2024-11-05'}]->(Laura),\n",
    "       (Alice)-[:CREATED]->(Post1),\n",
    "       (Bob)-[:CREATED]->(Post2),\n",
    "       (Charlie)-[:CREATED]->(Post3),\n",
    "       (Bob)-[:CREATED]->(Post4),\n",
    "       (Bob)-[:CREATED]->(Post5),\n",
    "       (Fay)-[:CREATED]->(Post6),\n",
    "       (Ivy)-[:CREATED]->(Post7),\n",
    "       (Matt)-[:CREATED]->(Post8),\n",
    "       (Henry)-[:CREATED]->(Post9),\n",
    "       (Matt)-[:CREATED]->(Post10),\n",
    "       (Laura)-[:CREATED]->(Post11),\n",
    "       (Bob)-[:CREATED]->(Post12),\n",
    "       (Alice)-[:MEMBER_OF {join_date: '2021-06-11'}]->(Group1),\n",
    "       (Bob)-[:MEMBER_OF {join_date: '2022-06-15'}]->(Group2),\n",
    "       (Charlie)-[:MEMBER_OF {join_date: '2023-02-05'}]->(Group2),\n",
    "       (Fay)-[:MEMBER_OF {join_date: '2022-10-12'}]->(Group2),\n",
    "       (Grace)-[:MEMBER_OF {join_date: '2023-10-12'}]->(Group3),\n",
    "       (Bob)-[:MEMBER_OF {join_date: '2023-10-12'}]->(Group3),\n",
    "       (Ivy)-[:MEMBER_OF {join_date: '2022-10-12'}]->(Group4),\n",
    "       (Bob)-[:AWARDED]->(Badge1),\n",
    "       (Evan)-[:AWARDED {awarded_date: '2023-02-01'}]->(Badge2),\n",
    "       (Grace)-[:AWARDED {awarded_date: '2024-10-31'}]->(Badge2),\n",
    "       (Grace)-[:AWARDED {awarded_date: '2023-03-01'}]->(Badge3),\n",
    "       (Charlie)-[:ATTENDING {rsvp_date: '2023-07-20'}]->(Event1),\n",
    "       (Alice)-[:ATTENDING {rsvp_date: '2023-07-31'}]->(Event1),\n",
    "       (Matt)-[:ATTENDING {rsvp_date: '2023-07-05'}]->(Event1),\n",
    "       (Fay)-[:ATTENDING {rsvp_date: '2023-05-14'}]->(Event2),\n",
    "       (Charlie)-[:ATTENDING {rsvp_date: '2023-05-01'}]->(Event2),\n",
    "       (Grace)-[:ATTENDING {rsvp_date: '2022-11-01'}]->(Event3),\n",
    "       (Jake)-[:ATTENDING {rsvp_date: '2023-04-01'}]->(Event5),\n",
    "       (Matt)-[:ATTENDING {rsvp_date: '2023-03-30'}]->(Event5)\n",
    "'''\n",
    "\n",
    "# Execute the query in the Neo4j session\n",
    "session.run(dsi_social_network_query)\n"
   ]
  },
  {
   "cell_type": "markdown",
   "metadata": {},
   "source": [
    "## Data Retrieval & Querying\n",
    "user_id is used when querying to ensure uniqueness and to avoid ambiguity, as there could be a user who joins with the same name in the future."
   ]
  },
  {
   "cell_type": "markdown",
   "metadata": {},
   "source": [
    "### 1. Retrieve a property of a specific User"
   ]
  },
  {
   "cell_type": "code",
   "execution_count": 4,
   "metadata": {},
   "outputs": [
    {
     "name": "stdout",
     "output_type": "stream",
     "text": [
      "          name                       email\n",
      "0  Alice Smith  alice.smith@vanderbilt.edu\n"
     ]
    }
   ],
   "source": [
    "# Can change email to desired property\n",
    "query = '''\n",
    "MATCH (u:User {user_id: 1})\n",
    "RETURN u.name AS name, u.email AS email\n",
    "'''\n",
    "result = session.run(query)\n",
    "user_property_df = pd.DataFrame([record.data() for record in result])\n",
    "print(user_property_df)"
   ]
  },
  {
   "cell_type": "markdown",
   "metadata": {},
   "source": [
    "### 2. Find all Posts created by a specific User"
   ]
  },
  {
   "cell_type": "code",
   "execution_count": 5,
   "metadata": {},
   "outputs": [
    {
     "name": "stdout",
     "output_type": "stream",
     "text": [
      "   post_id                                   content created_date  \\\n",
      "0        2    Anyone interested in a project on NLP?   2022-01-15   \n",
      "1        5  Tips on Data Engineering best practices?   2023-02-01   \n",
      "2       12     Data Privacy issues in the modern age   2021-09-01   \n",
      "3        4       Exploring AI Ethics and its impact.   2020-08-25   \n",
      "\n",
      "              topic  total_likes  total_comments    visibility  \n",
      "0   Project Sharing           15               5  friends-only  \n",
      "1  Data Engineering            5               0        public  \n",
      "2      Data Privacy           10               2        public  \n",
      "3         AI Ethics            8               1        public  \n"
     ]
    }
   ],
   "source": [
    "query = '''\n",
    "MATCH (u:User {user_id: 2})-[:CREATED]->(p:Post)\n",
    "RETURN p.post_id AS post_id, p.content AS content, p.created_date AS created_date, p.topic AS topic, p.likes_count AS total_likes, p.comments_count AS total_comments, p.visibility AS visibility\n",
    "'''\n",
    "result = session.run(query)\n",
    "user_posts_df = pd.DataFrame([record.data() for record in result])\n",
    "print(user_posts_df)"
   ]
  },
  {
   "cell_type": "markdown",
   "metadata": {},
   "source": [
    "### 3. Find all Users who posted a specific topic of Post"
   ]
  },
  {
   "cell_type": "code",
   "execution_count": 6,
   "metadata": {},
   "outputs": [
    {
     "name": "stdout",
     "output_type": "stream",
     "text": [
      "   user_id       name\n",
      "0        2  Bob Jones\n",
      "1        6   Fay Wong\n"
     ]
    }
   ],
   "source": [
    "query = '''\n",
    "MATCH (u:User)-[:CREATED]->(p:Post {topic: 'Project Sharing'})\n",
    "RETURN u.user_id AS user_id, u.name AS name\n",
    "'''\n",
    "result = session.run(query)\n",
    "users_by_topic_df = pd.DataFrame([record.data() for record in result])\n",
    "print(users_by_topic_df)"
   ]
  },
  {
   "cell_type": "markdown",
   "metadata": {},
   "source": [
    "### 4. Find common interests between two specific Users"
   ]
  },
  {
   "cell_type": "code",
   "execution_count": 7,
   "metadata": {},
   "outputs": [
    {
     "name": "stdout",
     "output_type": "stream",
     "text": [
      "  common_interests\n",
      "0     [Healthcare]\n"
     ]
    }
   ],
   "source": [
    "query = '''\n",
    "MATCH (u1:User {user_id: 1}), (u2:User {user_id: 12})\n",
    "RETURN [interest IN u1.interests WHERE interest IN u2.interests] AS common_interests\n",
    "'''\n",
    "result = session.run(query)\n",
    "common_interests_df = pd.DataFrame([record.data() for record in result])\n",
    "print(common_interests_df)"
   ]
  },
  {
   "cell_type": "markdown",
   "metadata": {},
   "source": [
    "### 5. Retrieve top 3 Users who created most Posts"
   ]
  },
  {
   "cell_type": "code",
   "execution_count": 8,
   "metadata": {},
   "outputs": [
    {
     "name": "stdout",
     "output_type": "stream",
     "text": [
      "   user_id           name  post_count\n",
      "0        2      Bob Jones           4\n",
      "1       12     Matt Green           2\n",
      "2        3  Charlie Brown           1\n"
     ]
    }
   ],
   "source": [
    "query = '''\n",
    "MATCH (u:User)-[:CREATED]->(p:Post)\n",
    "RETURN u.user_id AS user_id, u.name AS name, COUNT(p) AS post_count\n",
    "ORDER BY post_count DESC\n",
    "LIMIT 3\n",
    "'''\n",
    "result = session.run(query)\n",
    "top_post_creators_df = pd.DataFrame([record.data() for record in result])\n",
    "print(top_post_creators_df)"
   ]
  },
  {
   "cell_type": "markdown",
   "metadata": {},
   "source": [
    "### 6. Retrieve Users who haven’t created any Posts"
   ]
  },
  {
   "cell_type": "code",
   "execution_count": 9,
   "metadata": {},
   "outputs": [
    {
     "name": "stdout",
     "output_type": "stream",
     "text": [
      "   user_id          name\n",
      "0        4  Diana Prince\n",
      "1        5      Evan Lee\n",
      "2        7     Grace Kim\n",
      "3       10   Jake Miller\n"
     ]
    }
   ],
   "source": [
    "query = '''\n",
    "MATCH (u:User)\n",
    "WHERE NOT (u)-[:CREATED]->(:Post)\n",
    "RETURN u.user_id AS user_id, u.name AS name\n",
    "'''\n",
    "result = session.run(query)\n",
    "users_without_posts_df = pd.DataFrame([record.data() for record in result])\n",
    "print(users_without_posts_df)"
   ]
  },
  {
   "cell_type": "markdown",
   "metadata": {},
   "source": [
    "### 7. Given two Users, identify if they are indirectly connected through a chain of friends and, if so, return the connecting path"
   ]
  },
  {
   "cell_type": "code",
   "execution_count": 10,
   "metadata": {},
   "outputs": [
    {
     "name": "stdout",
     "output_type": "stream",
     "text": [
      "                                                path\n",
      "0  [{'major': 'Data Science', 'user_id': 1, 'join...\n"
     ]
    }
   ],
   "source": [
    "query = '''\n",
    "MATCH path = (u1:User {user_id: 1})-[:FRIEND*1..5]-(u2:User {user_id: 3})\n",
    "RETURN path\n",
    "LIMIT 1\n",
    "'''\n",
    "result = session.run(query)\n",
    "friendship_path_df = pd.DataFrame([record.data() for record in result])\n",
    "print(friendship_path_df)"
   ]
  },
  {
   "cell_type": "markdown",
   "metadata": {},
   "source": [
    "Here is another way to query the chain of friends that outputs a readible format for the user to understand:"
   ]
  },
  {
   "cell_type": "code",
   "execution_count": 11,
   "metadata": {},
   "outputs": [
    {
     "name": "stdout",
     "output_type": "stream",
     "text": [
      "Alice Smith is friends with Bob Jones -> Bob Jones is friends with Charlie Brown\n"
     ]
    }
   ],
   "source": [
    "query = '''\n",
    "MATCH path = (u1:User {user_id: 1})-[:FRIEND*1..5]-(u2:User {user_id: 3})\n",
    "RETURN path\n",
    "LIMIT 1\n",
    "'''\n",
    "result = session.run(query)\n",
    "\n",
    "# Extract nodes and relationships\n",
    "for record in result:\n",
    "    path = record[\"path\"]  # Get the path object\n",
    "    nodes = path.nodes      # Get the nodes along the path\n",
    "    relationships = path.relationships  # Get the relationships along the path\n",
    "\n",
    "    # Build a human-readable output\n",
    "    output = []\n",
    "    for i in range(len(relationships)):\n",
    "        start_node = nodes[i]\n",
    "        end_node = nodes[i + 1]\n",
    "        relationship = relationships[i]\n",
    "\n",
    "        # Append to output\n",
    "        output.append(\n",
    "            f\"{start_node['name']} is friends with {end_node['name']}\"\n",
    "        )\n",
    "\n",
    "# Print the output\n",
    "print(\" -> \".join(output))"
   ]
  },
  {
   "cell_type": "markdown",
   "metadata": {},
   "source": [
    "### 8. Write a query to identify orphaned Users"
   ]
  },
  {
   "cell_type": "code",
   "execution_count": 12,
   "metadata": {},
   "outputs": [
    {
     "name": "stdout",
     "output_type": "stream",
     "text": [
      "   user_id         name\n",
      "0        5     Evan Lee\n",
      "1        6     Fay Wong\n",
      "2        7    Grace Kim\n",
      "3       10  Jake Miller\n"
     ]
    }
   ],
   "source": [
    "query = '''\n",
    "MATCH (u:User)\n",
    "WHERE NOT (u)-[:FRIEND]-()\n",
    "RETURN u.user_id AS user_id, u.name AS name\n",
    "'''\n",
    "result = session.run(query)\n",
    "orphaned_users_df = pd.DataFrame([record.data() for record in result])\n",
    "print(orphaned_users_df)"
   ]
  },
  {
   "cell_type": "markdown",
   "metadata": {},
   "source": [
    "Identifying orphaned users is useful when trying to improve user engagement & retention. These users lack connections, thus they may feel isolated and less prone to interacting on the platform. Once these users are recognized, we can use targeted strategies to increase their engagement by:\n",
    "\n",
    "- Connection Recommendations: Suggest relevant users, posts, or groups based on shared interests to help them build connections, integrating them into the community.\n",
    "- Support & Onboarding: Personalized mentorship programs can be offered that empowers such users to make their first connections.\n",
    "- Event Invitations: Event organizers can send invites to these users so they can come and converse with others, fostering a sense of belonging and active participation.\n",
    "\n",
    "Therefore, this would help create a more welcoming and engaging environment, boosting overall user satisfaction and retention."
   ]
  },
  {
   "cell_type": "markdown",
   "metadata": {},
   "source": [
    "### Additional: Retrieve all Badges Awarded to each User"
   ]
  },
  {
   "cell_type": "code",
   "execution_count": 13,
   "metadata": {},
   "outputs": [
    {
     "name": "stdout",
     "output_type": "stream",
     "text": [
      "   user_name           badge_name                          badge_description  \\\n",
      "0  Bob Jones      Top Contributor  Awarded for high activity on the platform   \n",
      "1   Evan Lee  Data Science Mentor               Awarded for mentoring others   \n",
      "2  Grace Kim     AI Ethics Expert      Recognized for expertise in AI ethics   \n",
      "3  Grace Kim  Data Science Mentor               Awarded for mentoring others   \n",
      "\n",
      "  awarded_date  \n",
      "0         None  \n",
      "1   2023-02-01  \n",
      "2   2023-03-01  \n",
      "3   2024-10-31  \n"
     ]
    }
   ],
   "source": [
    "query = '''\n",
    "MATCH (u:User)-[a:AWARDED]->(b:Badge)\n",
    "RETURN u.name AS user_name, b.name AS badge_name, b.description AS badge_description, a.awarded_date AS awarded_date\n",
    "ORDER BY u.name, awarded_date\n",
    "'''\n",
    "result = session.run(query)\n",
    "awarded_badges_df = pd.DataFrame([record.data() for record in result])\n",
    "print(awarded_badges_df)\n"
   ]
  }
 ],
 "metadata": {
  "kernelspec": {
   "display_name": "Python 3",
   "language": "python",
   "name": "python3"
  },
  "language_info": {
   "codemirror_mode": {
    "name": "ipython",
    "version": 3
   },
   "file_extension": ".py",
   "mimetype": "text/x-python",
   "name": "python",
   "nbconvert_exporter": "python",
   "pygments_lexer": "ipython3",
   "version": "3.10.11"
  }
 },
 "nbformat": 4,
 "nbformat_minor": 2
}
