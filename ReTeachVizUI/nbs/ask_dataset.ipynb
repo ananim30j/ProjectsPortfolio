{
 "cells": [
  {
   "cell_type": "markdown",
   "metadata": {},
   "source": [
    "# \"Interactive Data Queries with AI: Leveraging OpenAI for CSV Data Insights\"\n",
    "\n",
    "## Introduction:\n",
    "\n",
    "In the era of big data, extracting insights from datasets can often be a complex and code-intensive process. This Jupyter notebook presents an innovative approach to data analysis, harnessing the power of generative AI to interactively query and gain insights from CSV datasets. By utilizing OpenAI's chat completion API, this notebook demonstrates how one can ask questions directly to the data, bypassing traditional data analysis complexities.\n"
   ]
  },
  {
   "cell_type": "code",
   "execution_count": null,
   "metadata": {},
   "outputs": [],
   "source": [
    "#| default_exp Ask_your_dataset"
   ]
  },
  {
   "cell_type": "markdown",
   "metadata": {},
   "source": [
    "## Overview of the Code\n",
    "\n",
    "This code is designed to read data from one or more CSV files, process this data, and then use OpenAI's API to answer questions about the data. The code is organized into classes, which are like blueprints for creating objects that encapsulate specific functionalities.\n",
    "\n",
    "## Main Components\n",
    "\n",
    "### CSVDataReader Class:\n",
    "\n",
    "This class is responsible for handling the reading and processing of CSV files.\n",
    "\n",
    "### OpenAIChatClient Class:\n",
    "\n",
    "This class manages the interaction with the OpenAI API. It sends the processed data from the CSV files along with a user's question to the API and then receives the answer.\n",
    "\n",
    "### Main Execution Block:\n",
    "\n",
    "This is where the program starts executing. It creates instances of the above classes and uses them to read CSV data and get answers from the OpenAI API."
   ]
  },
  {
   "cell_type": "code",
   "execution_count": null,
   "metadata": {},
   "outputs": [],
   "source": [
    "#| export\n",
    "import openai\n",
    "import pandas as pd\n",
    "\n",
    "# CSVDataReader class modified for Streamlit\n",
    "class CSVDataReader:\n",
    "    \"\"\"\n",
    "    This class handles reading and processing one or more CSV data files using Streamlit's file uploader.\n",
    "    \"\"\"\n",
    "    def read_data(self, uploaded_files):\n",
    "        \"\"\"\n",
    "        Reads and concatenates multiple uploaded CSV files into a single DataFrame.\n",
    "        Args:\n",
    "            uploaded_files: List of uploaded files.\n",
    "        Returns:\n",
    "            str: String representation of the concatenated CSV data.\n",
    "        \"\"\"\n",
    "        dataframes = [pd.read_csv(file) for file in uploaded_files]\n",
    "        concatenated_df = pd.concat(dataframes, ignore_index=True)\n",
    "        return concatenated_df.to_string(index=False)\n",
    "    \n",
    "# OpenAIChatClient class\n",
    "class OpenAIChatClient:\n",
    "    \"\"\"\n",
    "    This class encapsulates the interaction with OpenAI's Chat API.\n",
    "    \"\"\"\n",
    "    def __init__(self, api_key):\n",
    "        \"\"\"\n",
    "        Initializes the OpenAI client with the provided API key.\n",
    "        Args:\n",
    "            api_key (str): The OpenAI API key.\n",
    "        \"\"\"\n",
    "        openai.api_key = api_key\n",
    "        self.client = openai.ChatCompletion()\n",
    "\n",
    "    def query_gpt(self, csv_data, user_question):\n",
    "        \"\"\"\n",
    "        Sends a query to the OpenAI API and gets a response.\n",
    "        Args:\n",
    "            csv_data (str): The CSV data in string format.\n",
    "            user_question (str): The user's question about the data.\n",
    "        Returns:\n",
    "            str: The response from the OpenAI API.\n",
    "        \"\"\"\n",
    "        system_message = (\"You are a highly capable assistant skilled in data analysis. \"\n",
    "                          \"You can interpret CSV data, perform calculations, summarize information, \"\n",
    "                          \"answer specific queries, and even create visual representations if needed. \"\n",
    "                          \"Here is the data you need to work with:\\n\" + csv_data)\n",
    "        api_response = self.client.create(\n",
    "            model=\"gpt-3.5-turbo\",\n",
    "            messages=[\n",
    "                {\"role\": \"system\", \"content\": system_message},\n",
    "                {\"role\": \"user\", \"content\": user_question}\n",
    "            ])\n",
    "        return api_response.choices[0].message['content']"
   ]
  },
  {
   "cell_type": "code",
   "execution_count": null,
   "metadata": {},
   "outputs": [],
   "source": [
    "# Main execution (example)\n",
    "# if __name__ == \"__main__\":\n",
    "#     # Define CSV file paths\n",
    "#     file_paths = ['../data/sampledata.csv']\n",
    "\n",
    "#     # Read and process CSV data\n",
    "#     data_processor = CSVDataProcessor(file_paths)\n",
    "#     csv_data_str = data_processor.df.to_string(index=False)\n",
    "\n",
    "#     # Create an instance of OpenAIChatClient\n",
    "#     chat_client = OpenAIChatClient()\n",
    "\n",
    "#     # Sample questions for demonstration\n",
    "#     questions = [\"What is in the csv file ?\",\"How many rows are there in the csv file ?\",\"How many columns are there in the csv file ?\"]\n",
    "\n",
    "#     # Ask questions and print responses\n",
    "#     for question in questions:\n",
    "#         answer = chat_client.query_gpt(csv_data_str, question)\n",
    "#         print(f\"Question: {question}\\nAnswer: {answer}\\n\")\n"
   ]
  },
  {
   "cell_type": "markdown",
   "metadata": {},
   "source": [
    "### Commentary\n",
    "\n",
    "Data Processing: The system effectively reads the CSV file, showing it can handle basic data processing tasks.\n",
    "\n",
    "AI Response: The AI provides a concise summary of the CSV file's contents, identifying the columns and their context. This indicates good comprehension of the data structure.\n",
    "\n",
    "Accuracy: AI demonstrates accurate data interpretation, which is beneficial for quick insights.\n",
    "\n",
    "Practical Use: This example shows the system can be a useful tool for rapidly extracting information from data files without detailed manual analysis.\n",
    "\n",
    "The system works well for straightforward data queries, offering a quick and efficient way to gain insights from CSV files."
   ]
  },
  {
   "cell_type": "markdown",
   "metadata": {},
   "source": [
    "### Conclusion \n",
    "\n",
    "In conclusion, this notebook successfully demonstrates the innovative application of AI in the field of data analysis. By integrating OpenAI's model with CSV data, it offers a user-friendly way to interactively query and gain insights from datasets. This approach simplifies data analysis, making it accessible even to those without extensive coding or data science backgrounds. Its potential applications span various domains where quick data insights are valuable."
   ]
  }
 ],
 "metadata": {
  "kernelspec": {
   "display_name": "python3",
   "language": "python",
   "name": "python3"
  }
 },
 "nbformat": 4,
 "nbformat_minor": 2
}
